{
 "cells": [
  {
   "cell_type": "code",
   "execution_count": 1,
   "metadata": {
    "collapsed": false
   },
   "outputs": [
    {
     "name": "stdout",
     "output_type": "stream",
     "text": [
      "Using matplotlib backend: Qt5Agg\n"
     ]
    }
   ],
   "source": [
    "from astrohut import *\n",
    "%matplotlib"
   ]
  },
  {
   "cell_type": "code",
   "execution_count": 2,
   "metadata": {
    "collapsed": false,
    "scrolled": true
   },
   "outputs": [],
   "source": [
    "N = 4096\n",
    "M_T = 5e10/1e7\n",
    "M = 2.0*M_T/N #two galaxies\n",
    "G = 44.97\n",
    "epsilon = 0.01\n",
    "\n",
    "system, speeds = example(N, M, G)"
   ]
  },
  {
   "cell_type": "code",
   "execution_count": 3,
   "metadata": {
    "collapsed": false
   },
   "outputs": [],
   "source": [
    "sim = simulation(M, G, epsilon, tolerance = 1.0, pos = system, speeds = speeds)"
   ]
  },
  {
   "cell_type": "code",
   "execution_count": 4,
   "metadata": {
    "collapsed": true
   },
   "outputs": [],
   "source": [
    "sim.start(0, 5.0, 0.01)\n",
    "\n",
    "data = read_output()\n",
    "N_data = len(data)\n",
    "step = 1\n",
    "if N_data > 1000:\n",
    "    step = int(N_data/1000)\n",
    "    \n",
    "ani = animate(data, N)\n",
    "ani.save(\"approx.mp4\", writer = \"ffmpeg\", fps = 24, dpi = 120)"
   ]
  },
  {
   "cell_type": "code",
   "execution_count": 5,
   "metadata": {
    "collapsed": true
   },
   "outputs": [],
   "source": [
    "sim.tolerance = 0\n",
    "\n",
    "sim.start(0, 5.10, 0.01)\n",
    "\n",
    "data = read_output()\n",
    "N_data = len(data)\n",
    "step = 1\n",
    "if N_data > 1000:\n",
    "    step = int(N_data/1000)\n",
    "    \n",
    "ani = animate(data, N)\n",
    "ani.save(\"exact.mp4\", writer = \"ffmpeg\", fps = 24, dpi = 120)"
   ]
  },
  {
   "cell_type": "code",
   "execution_count": null,
   "metadata": {
    "collapsed": true
   },
   "outputs": [],
   "source": []
  }
 ],
 "metadata": {
  "anaconda-cloud": {},
  "kernelspec": {
   "display_name": "Python [conda root]",
   "language": "python",
   "name": "conda-root-py"
  },
  "language_info": {
   "codemirror_mode": {
    "name": "ipython",
    "version": 3
   },
   "file_extension": ".py",
   "mimetype": "text/x-python",
   "name": "python",
   "nbconvert_exporter": "python",
   "pygments_lexer": "ipython3",
   "version": "3.4.4"
  }
 },
 "nbformat": 4,
 "nbformat_minor": 2
}
